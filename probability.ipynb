{
 "cells": [
  {
   "cell_type": "markdown",
   "metadata": {},
   "source": [
    "# Probability"
   ]
  },
  {
   "cell_type": "markdown",
   "metadata": {},
   "source": [
    "- It should be expected in the long run, meaning, many experiments (observations).\n",
    "- Always between [0,1]\n",
    "\n",
    "Concepts:\n",
    "- Experiment: what is being studied.\n",
    "    + ex: toast a coin\n",
    "- Sample space: all possible results.\n",
    "    + ex: heads or tails\n",
    "- Event: results. \n",
    "    + ex: tails"
   ]
  },
  {
   "cell_type": "markdown",
   "metadata": {},
   "source": [
    "## Single event\n",
    "\n",
    "Formula:\n",
    "- $P=\\frac{\\#expected\\_ocurrencies}{\\#possibities}$\n",
    "\n",
    "Example:\n",
    "- toast a coin and see tails\n",
    "    - $P=1/2$"
   ]
  },
  {
   "cell_type": "markdown",
   "metadata": {},
   "source": [
    "## Exclusive events\n",
    "Can't happen at the same time.\n",
    "- ex: roll a dice coming 1 and an even number\n",
    "\n",
    "Formula:\n",
    "- $P=\\sum \\frac{\\#ocurrencies}{\\#possibities}$\n",
    "\n",
    "Example:\n",
    "- roll a dice and see 1 **or** an even number\n",
    "    - $P=1/6 + 3/6 = 4/6$"
   ]
  },
  {
   "cell_type": "markdown",
   "metadata": {},
   "source": [
    "## Non-exclusive events\n",
    "Can happen at the same time.\n",
    "- ex: roll a dice coming 2 and an even number\n",
    "\n",
    "\n",
    "Formula:\n",
    "- $P=\\sum \\frac{\\#ocurrencies}{\\#possibities} - \\sum\\frac{\\#repeated\\_expected\\_ocurrencies}{\\#possibities}$\n",
    "\n",
    "Example:\n",
    "- roll a dice and see 2 **or** an even number\n",
    "    - $P=1/6 + 3/6 - 1/6 = 3/6$ \n",
    "        * *2 is a even number*"
   ]
  },
  {
   "cell_type": "markdown",
   "metadata": {},
   "source": [
    "## Independent events\n",
    "Events don't affect each other\n",
    "- ex: roll 2 or more different dices\n",
    "\n",
    "Formula:\n",
    "- $P=\\prod \\frac{\\#ocurrencies}{\\#possibities}$\n",
    "\n",
    "Example:\n",
    "- roll 2 dices and see 1 **and** 6\n",
    "    - $P=1/6 * 1/6=1/36$ "
   ]
  },
  {
   "cell_type": "markdown",
   "metadata": {},
   "source": [
    "## Dependent events\n",
    "Events affect each other, meaning, one must happen in order to another occur.\n",
    "- ex: pick a card from a deck\n",
    "\n",
    "Formula:\n",
    "- $P=\\prod \\frac{\\#ocurrencies}{\\#possibities}$\n",
    "    + NOTE: after each ocurrency, the number of possibilities **decreases**\n",
    "\n",
    "Example:\n",
    "- with a 6 cards deck, pick A first and 4 after it\n",
    "    - $P=1/6 * 1/5=1/30$ "
   ]
  }
 ],
 "metadata": {
  "kernelspec": {
   "display_name": "Python 3",
   "language": "python",
   "name": "python3"
  },
  "language_info": {
   "codemirror_mode": {
    "name": "ipython",
    "version": 3
   },
   "file_extension": ".py",
   "mimetype": "text/x-python",
   "name": "python",
   "nbconvert_exporter": "python",
   "pygments_lexer": "ipython3",
   "version": "3.7.4"
  }
 },
 "nbformat": 4,
 "nbformat_minor": 2
}
